{
 "cells": [
  {
   "cell_type": "code",
   "execution_count": null,
   "metadata": {},
   "outputs": [],
   "source": [
    "#tensorflow\n",
    "tf.Session\n",
    "config=None\n",
    "A ConfigProto protocol buffer with configuration options for the session.\n"
   ]
  },
  {
   "cell_type": "code",
   "execution_count": null,
   "metadata": {},
   "outputs": [],
   "source": [
    "ConfigProto \n",
    " exposes various configuration options for a session\n",
    "uses soft constraints for device placement:\n",
    "    allow_soft_placement=True\n",
    "and log the resulting placement decisions\n",
    "    log_device_placement=True\n",
    "If true, the allocator does not pre-allocate the entire specified\n",
    "  // GPU memory region, instead starting small and growing as needed.    \n",
    "    config.gpu_options.allow_growth = True"
   ]
  }
 ],
 "metadata": {
  "kernelspec": {
   "display_name": "Python 3",
   "language": "python",
   "name": "python3"
  },
  "language_info": {
   "codemirror_mode": {
    "name": "ipython",
    "version": 3
   },
   "file_extension": ".py",
   "mimetype": "text/x-python",
   "name": "python",
   "nbconvert_exporter": "python",
   "pygments_lexer": "ipython3",
   "version": "3.6.2"
  }
 },
 "nbformat": 4,
 "nbformat_minor": 2
}
