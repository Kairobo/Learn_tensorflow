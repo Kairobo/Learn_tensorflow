{
 "cells": [
  {
   "cell_type": "code",
   "execution_count": null,
   "metadata": {},
   "outputs": [],
   "source": [
    "#drop_out didn't infl"
   ]
  },
  {
   "cell_type": "code",
   "execution_count": 3,
   "metadata": {},
   "outputs": [
    {
     "name": "stdout",
     "output_type": "stream",
     "text": [
      "(?, 10)\n"
     ]
    }
   ],
   "source": [
    "import tensorflow as tf\n",
    "from tensorflow.python.layers.core import Dense\n",
    "x = tf.placeholder(tf.float32, shape=(None,256, 256,3))\n",
    "\n",
    "\n",
    "conv1 = tf.layers.conv2d(x, 32, 5, activation=tf.nn.relu)\n",
    "# Max Pooling (down-sampling) with strides of 2 and kernel size of 2\n",
    "conv1 = tf.layers.max_pooling2d(conv1, 2, 2)\n",
    "\n",
    "# Convolution Layer with 64 filters and a kernel size of 3\n",
    "conv2 = tf.layers.conv2d(conv1, 64, 3, activation=tf.nn.relu)\n",
    "# Max Pooling (down-sampling) with strides of 2 and kernel size of 2\n",
    "conv2 = tf.layers.max_pooling2d(conv2, 2, 2)\n",
    "\n",
    "# Flatten the data to a 1-D vector for the fully connected layer\n",
    "fc1 = tf.contrib.layers.flatten(conv2)\n",
    "\n",
    "# Fully connected layer (in tf contrib folder for now)\n",
    "\n",
    "fc1 = tf.layers.dense(fc1, 1024)\n",
    "# Apply Dropout (if is_training is False, dropout is not applied)\n",
    "fc1 = tf.nn.dropout(fc1, keep_prob=0.7)\n",
    "\n",
    "# Output layer, class prediction\n",
    "out = tf.layers.dense(fc1, 10)\n",
    "print(out.shape)"
   ]
  },
  {
   "cell_type": "code",
   "execution_count": null,
   "metadata": {},
   "outputs": [],
   "source": []
  }
 ],
 "metadata": {
  "kernelspec": {
   "display_name": "Python 3",
   "language": "python",
   "name": "python3"
  },
  "language_info": {
   "codemirror_mode": {
    "name": "ipython",
    "version": 3
   },
   "file_extension": ".py",
   "mimetype": "text/x-python",
   "name": "python",
   "nbconvert_exporter": "python",
   "pygments_lexer": "ipython3",
   "version": "3.6.2"
  }
 },
 "nbformat": 4,
 "nbformat_minor": 2
}
