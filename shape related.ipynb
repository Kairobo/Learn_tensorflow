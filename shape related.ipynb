{
 "cells": [
  {
   "cell_type": "markdown",
   "metadata": {},
   "source": [
    "shaper_related"
   ]
  },
  {
   "cell_type": "code",
   "execution_count": 7,
   "metadata": {},
   "outputs": [
    {
     "name": "stdout",
     "output_type": "stream",
     "text": [
      "Tensor(\"Shape_9:0\", shape=(2,), dtype=int32)\n",
      "Tensor(\"Shape_10:0\", shape=(3,), dtype=int32)\n",
      "(?, 5, 1)\n",
      "(?, 5)\n",
      "(?, 5)\n"
     ]
    }
   ],
   "source": [
    "import tensorflow as tf\n",
    "X = tf.placeholder(\"float\", [None, 5,1])\n",
    "print(tf.shape(tf.squeeze(X, -1))) \n",
    "print(tf.shape(X))\n",
    "print(X.shape)\n",
    "print(tf.squeeze(X, -1).shape)\n",
    "print(X[:,:,0].shape)"
   ]
  },
  {
   "cell_type": "code",
   "execution_count": 50,
   "metadata": {},
   "outputs": [
    {
     "name": "stdout",
     "output_type": "stream",
     "text": [
      "(50, ?)\n",
      "(50, 200)\n",
      "(50, ?, 200)\n",
      "(50, ?, 1024)\n",
      "(50, ?, 200)\n"
     ]
    }
   ],
   "source": [
    "import tensorflow as tf\n",
    "from tensorflow.python.layers.core import Dense\n",
    "vocab_size = 200000\n",
    "\n",
    "batch_size = 50\n",
    "Batch = 50\n",
    "text_feature_dim = 4097\n",
    "input_embedding_size = 200  # character length\n",
    "decoder_hidden_units = 1024\n",
    "encoder_inputs = tf.placeholder(shape=(Batch, None), dtype=tf.int32, name='encoder_inputs')\n",
    "decoder_inputs = encoder_inputs\n",
    "decoder_start_token = tf.ones(shape=[batch_size, 1], dtype=tf.int32) * 1  # data_utils.start_token\n",
    "decoder_inputs_train = tf.concat([decoder_start_token, decoder_inputs], axis=1)\n",
    "encoder_final_state_c = tf.placeholder(shape=(Batch, text_feature_dim), dtype=tf.float32,\n",
    "                                               name='encoder_final_state')\n",
    "context_layer = Dense(input_embedding_size, dtype=tf.float32, name='context_layer')\n",
    "context_input = context_layer(encoder_final_state_c)\n",
    "context_input_1 = tf.reshape(context_input,[-1,1,input_embedding_size])\n",
    "max_len_inputs = tf.shape(encoder_inputs)[1] + 1\n",
    "context_input_tile = tf.tile(context_input_1,[1,max_len_inputs,1])\n",
    "embeddings = tf.Variable(tf.random_uniform([vocab_size, input_embedding_size], -1.0, 1.0), dtype=tf.float32)\n",
    "decoder_embeddings = embeddings\n",
    "decoder_inputs_embedded = tf.nn.embedding_lookup(params=decoder_embeddings, ids=decoder_inputs_train)\n",
    "input_layer = Dense(decoder_hidden_units, dtype=tf.float32, name='input_projection')\n",
    "decoder_inputs_embedded_fn = input_layer(decoder_inputs_embedded)\n"
   ]
  },
  {
   "cell_type": "markdown",
   "metadata": {},
   "source": [
    "#how to deal with batch size and layers\n",
    "#conv layer\n",
    "tf.layers.conv2d\n",
    "[batch_size, image_width, image_height, channels]\n",
    "will perform convolution on the last three dimensions\n",
    "#dense layer\n",
    "Dense\n",
    "will perform fully connected on the last dimension(see its initial)\n",
    "outputs = activation(inputs * kernel + bias)\n",
    "self.kernel shape=[input_shape[-1].value, self.units]"
   ]
  },
  {
   "cell_type": "code",
   "execution_count": 48,
   "metadata": {},
   "outputs": [
    {
     "name": "stdout",
     "output_type": "stream",
     "text": [
      "(50, 1, 200)\n"
     ]
    }
   ],
   "source": [
    "#add one dimension\n",
    "context_input_1 = tf.reshape(context_input, [-1, 1, input_embedding_size])\n",
    "print(context_input_1.shape)"
   ]
  },
  {
   "cell_type": "code",
   "execution_count": 49,
   "metadata": {},
   "outputs": [
    {
     "name": "stdout",
     "output_type": "stream",
     "text": [
      "(50, 5, 200)\n"
     ]
    }
   ],
   "source": [
    "#tile feature\n",
    "context_input_tile =  tf.tile(context_input_1,[1,5,1])\n",
    "print(context_input_tile.shape)"
   ]
  },
  {
   "cell_type": "code",
   "execution_count": 14,
   "metadata": {},
   "outputs": [
    {
     "name": "stdout",
     "output_type": "stream",
     "text": [
      "(50, ?, 400)\n"
     ]
    }
   ],
   "source": [
    "#concat features\n",
    "decoder_input_final = tf.concat([context_input_tile, decoder_inputs_embedded], 2)\n",
    "print(decoder_input_final.shape)"
   ]
  },
  {
   "cell_type": "code",
   "execution_count": 47,
   "metadata": {},
   "outputs": [
    {
     "name": "stdout",
     "output_type": "stream",
     "text": [
      "Tensor(\"Shape_20:0\", shape=(2,), dtype=int32)\n",
      "[[ 1.  1.  1.]\n",
      " [ 1.  1.  1.]\n",
      " [ 1.  1.  1.]\n",
      " [ 1.  1.  1.]\n",
      " [ 1.  1.  1.]]\n"
     ]
    }
   ],
   "source": [
    "#create same shape ones\n",
    "import numpy as np\n",
    "a = tf.placeholder(shape=(None, 3), dtype=tf.int32, name='inputs')\n",
    "#a.get_shape() need to have specific shape\n",
    "a_shape = tf.shape(a)\n",
    "c = tf.ones(tf.shape(a))\n",
    "print(a_shape)\n",
    "d = tf.ones(shape = [5,a_shape[0]])\n",
    "sess = tf.InteractiveSession()\n",
    "d_o = sess.run(d,feed_dict={a:np.ones([3,3])})\n",
    "print(d_o)"
   ]
  },
  {
   "cell_type": "code",
   "execution_count": null,
   "metadata": {},
   "outputs": [],
   "source": [
    "#temporary save\n",
    "weight_dir = './weight_fn_1de_input_context/'\n",
    "\n",
    "context_layer = Dense(input_embedding_size, dtype=tf.float32, name='context_layer')\n",
    "\n",
    "context_input = context_layer(encoder_final_state_c)\n",
    "context_input_1 = tf.reshape(context_input,[-1,1,input_embedding_size])\n",
    "max_len_inputs = tf.shape(encoder_inputs)[1] + 1\n",
    "context_input_tile = tf.tile(context_input_1,[1,max_len_inputs,1])\n",
    "\n",
    " decoder_inputs_embedded_concat = tf.concat([decoder_inputs_embedded,context_input_tile],2)\n",
    "    "
   ]
  }
 ],
 "metadata": {
  "kernelspec": {
   "display_name": "Python 3",
   "language": "python",
   "name": "python3"
  },
  "language_info": {
   "codemirror_mode": {
    "name": "ipython",
    "version": 3
   },
   "file_extension": ".py",
   "mimetype": "text/x-python",
   "name": "python",
   "nbconvert_exporter": "python",
   "pygments_lexer": "ipython3",
   "version": "3.6.2"
  }
 },
 "nbformat": 4,
 "nbformat_minor": 2
}
