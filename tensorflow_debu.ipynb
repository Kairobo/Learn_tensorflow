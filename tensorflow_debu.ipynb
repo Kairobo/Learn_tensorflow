{
 "cells": [
  {
   "cell_type": "code",
   "execution_count": 1,
   "metadata": {},
   "outputs": [
    {
     "name": "stderr",
     "output_type": "stream",
     "text": [
      "/Users/kaijia/openai_gym_python3/lib/python3.6/importlib/_bootstrap.py:205: RuntimeWarning: compiletime version 3.5 of module 'tensorflow.python.framework.fast_tensor_util' does not match runtime version 3.6\n",
      "  return f(*args, **kwds)\n"
     ]
    },
    {
     "name": "stdout",
     "output_type": "stream",
     "text": [
      "(?, 5)\n",
      "-69.0776\n"
     ]
    }
   ],
   "source": [
    "import tensorflow as tf\n",
    "import numpy as np\n",
    "X = tf.placeholder(\"float\", [None, 5])\n",
    "print(X.shape)\n",
    "X1 = X * 0.3\n",
    "neg_X1 = 1 - X1\n",
    "#X1_sum = X1 + neg_X1\n",
    "X1_log = tf.log(X)\n",
    "nX1_log = tf.log(neg_X1)\n",
    "B = np.ones([3,5])*0.6\n",
    "Out = -tf.multiply(X1_log,B)-tf.multiply(nX1_log,1-B)\n",
    "Loss = tf.reduce_sum(Out)\n",
    "sess = tf.InteractiveSession()\n",
    "feed_X = np.ones([3,5])\n",
    "tf.global_variables_initializer().run()\n",
    "log_o = tf.log(1/(1e30))\n",
    "oo = sess.run((Loss), feed_dict={X:feed_X })\n",
    "log_oo = sess.run(log_o)\n",
    "#print(oo)\n",
    "print(log_oo)\n"
   ]
  },
  {
   "cell_type": "code",
   "execution_count": 7,
   "metadata": {},
   "outputs": [
    {
     "name": "stdout",
     "output_type": "stream",
     "text": [
      "[[ 0.4  0.4  0.4  0.4  0.4]\n",
      " [ 0.4  0.4  0.4  0.4  0.4]\n",
      " [ 0.4  0.4  0.4  0.4  0.4]]\n"
     ]
    }
   ],
   "source": [
    "nB = 1-B\n",
    "print(nB)"
   ]
  },
  {
   "cell_type": "code",
   "execution_count": 5,
   "metadata": {},
   "outputs": [
    {
     "data": {
      "text/plain": [
       "1e-10"
      ]
     },
     "execution_count": 5,
     "metadata": {},
     "output_type": "execute_result"
    }
   ],
   "source": [
    "1/(1e10)"
   ]
  },
  {
   "cell_type": "code",
   "execution_count": null,
   "metadata": {},
   "outputs": [],
   "source": []
  }
 ],
 "metadata": {
  "kernelspec": {
   "display_name": "Python 3",
   "language": "python",
   "name": "python3"
  },
  "language_info": {
   "codemirror_mode": {
    "name": "ipython",
    "version": 3
   },
   "file_extension": ".py",
   "mimetype": "text/x-python",
   "name": "python",
   "nbconvert_exporter": "python",
   "pygments_lexer": "ipython3",
   "version": "3.6.2"
  }
 },
 "nbformat": 4,
 "nbformat_minor": 2
}
